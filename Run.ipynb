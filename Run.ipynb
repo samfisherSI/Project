{
 "cells": [
  {
   "cell_type": "markdown",
   "metadata": {
    "id": "cBDDKolhfsy4"
   },
   "source": [
    "# Step 1 : Installing the required libraries"
   ]
  },
  {
   "cell_type": "code",
   "execution_count": 1,
   "metadata": {
    "colab": {
     "base_uri": "https://localhost:8080/"
    },
    "id": "ZxH-QQKCfsy_",
    "outputId": "02150073-4095-4bc4-ba12-ac37e31461fd",
    "scrolled": true
   },
   "outputs": [
    {
     "name": "stdout",
     "output_type": "stream",
     "text": [
      "Requirement already satisfied: tensorflow==2.3.1 in c:\\programdata\\anaconda3\\lib\\site-packages (2.3.1)\n",
      "Requirement already satisfied: gym in c:\\programdata\\anaconda3\\lib\\site-packages (0.18.0)\n",
      "Requirement already satisfied: keras-rl2 in c:\\users\\win-10\\appdata\\roaming\\python\\python38\\site-packages (1.0.4)\n",
      "Requirement already satisfied: gast==0.3.3 in c:\\users\\win-10\\appdata\\roaming\\python\\python38\\site-packages (from tensorflow==2.3.1) (0.3.3)\n",
      "Requirement already satisfied: absl-py>=0.7.0 in c:\\users\\win-10\\appdata\\roaming\\python\\python38\\site-packages (from tensorflow==2.3.1) (0.11.0)\n",
      "Requirement already satisfied: tensorboard<3,>=2.3.0 in c:\\users\\win-10\\appdata\\roaming\\python\\python38\\site-packages (from tensorflow==2.3.1) (2.4.1)\n",
      "Requirement already satisfied: astunparse==1.6.3 in c:\\users\\win-10\\appdata\\roaming\\python\\python38\\site-packages (from tensorflow==2.3.1) (1.6.3)\n",
      "Collecting numpy<1.19.0,>=1.16.0\n",
      "  Using cached numpy-1.18.5-cp38-cp38-win_amd64.whl (12.8 MB)\n",
      "Requirement already satisfied: tensorflow-estimator<2.4.0,>=2.3.0 in c:\\programdata\\anaconda3\\lib\\site-packages (from tensorflow==2.3.1) (2.3.0)\n"
     ]
    },
    {
     "name": "stderr",
     "output_type": "stream",
     "text": [
      "ERROR: Could not install packages due to an EnvironmentError: [WinError 5] Access is denied: 'C:\\\\ProgramData\\\\Anaconda3\\\\Lib\\\\site-packages\\\\numpy\\\\LICENSE.txt'\n",
      "Consider using the `--user` option or check the permissions.\n",
      "\n"
     ]
    },
    {
     "name": "stdout",
     "output_type": "stream",
     "text": [
      "Requirement already satisfied: termcolor>=1.1.0 in c:\\users\\win-10\\appdata\\roaming\\python\\python38\\site-packages (from tensorflow==2.3.1) (1.1.0)\n",
      "Requirement already satisfied: wheel>=0.26 in c:\\programdata\\anaconda3\\lib\\site-packages (from tensorflow==2.3.1) (0.35.1)\n",
      "Requirement already satisfied: opt-einsum>=2.3.2 in c:\\users\\win-10\\appdata\\roaming\\python\\python38\\site-packages (from tensorflow==2.3.1) (3.3.0)\n",
      "Requirement already satisfied: wrapt>=1.11.1 in c:\\users\\win-10\\appdata\\roaming\\python\\python38\\site-packages (from tensorflow==2.3.1) (1.12.1)\n",
      "Requirement already satisfied: six>=1.12.0 in c:\\programdata\\anaconda3\\lib\\site-packages (from tensorflow==2.3.1) (1.15.0)\n",
      "Requirement already satisfied: grpcio>=1.8.6 in c:\\users\\win-10\\appdata\\roaming\\python\\python38\\site-packages (from tensorflow==2.3.1) (1.32.0)\n",
      "Requirement already satisfied: keras-preprocessing<1.2,>=1.1.1 in c:\\users\\win-10\\appdata\\roaming\\python\\python38\\site-packages (from tensorflow==2.3.1) (1.1.2)\n",
      "Requirement already satisfied: h5py<2.11.0,>=2.10.0 in c:\\users\\win-10\\appdata\\roaming\\python\\python38\\site-packages (from tensorflow==2.3.1) (2.10.0)\n",
      "Requirement already satisfied: google-pasta>=0.1.8 in c:\\users\\win-10\\appdata\\roaming\\python\\python38\\site-packages (from tensorflow==2.3.1) (0.2.0)\n",
      "Requirement already satisfied: protobuf>=3.9.2 in c:\\users\\win-10\\appdata\\roaming\\python\\python38\\site-packages (from tensorflow==2.3.1) (3.14.0)\n",
      "Requirement already satisfied: pyglet<=1.5.0,>=1.4.0 in c:\\programdata\\anaconda3\\lib\\site-packages (from gym) (1.5.0)\n",
      "Requirement already satisfied: scipy in c:\\programdata\\anaconda3\\lib\\site-packages (from gym) (1.5.2)\n",
      "Requirement already satisfied: cloudpickle<1.7.0,>=1.2.0 in c:\\programdata\\anaconda3\\lib\\site-packages (from gym) (1.6.0)\n",
      "Requirement already satisfied: Pillow<=7.2.0 in c:\\users\\win-10\\appdata\\roaming\\python\\python38\\site-packages (from gym) (7.2.0)\n",
      "Requirement already satisfied: markdown>=2.6.8 in c:\\users\\win-10\\appdata\\roaming\\python\\python38\\site-packages (from tensorboard<3,>=2.3.0->tensorflow==2.3.1) (3.3.3)\n",
      "Requirement already satisfied: werkzeug>=0.11.15 in c:\\users\\win-10\\appdata\\roaming\\python\\python38\\site-packages (from tensorboard<3,>=2.3.0->tensorflow==2.3.1) (1.0.1)\n",
      "Requirement already satisfied: tensorboard-plugin-wit>=1.6.0 in c:\\users\\win-10\\appdata\\roaming\\python\\python38\\site-packages (from tensorboard<3,>=2.3.0->tensorflow==2.3.1) (1.8.0)\n",
      "Requirement already satisfied: google-auth<2,>=1.6.3 in c:\\users\\win-10\\appdata\\roaming\\python\\python38\\site-packages (from tensorboard<3,>=2.3.0->tensorflow==2.3.1) (1.27.0)\n",
      "Requirement already satisfied: google-auth-oauthlib<0.5,>=0.4.1 in c:\\users\\win-10\\appdata\\roaming\\python\\python38\\site-packages (from tensorboard<3,>=2.3.0->tensorflow==2.3.1) (0.4.2)\n",
      "Requirement already satisfied: setuptools>=41.0.0 in c:\\users\\win-10\\appdata\\roaming\\python\\python38\\site-packages (from tensorboard<3,>=2.3.0->tensorflow==2.3.1) (53.0.0)\n",
      "Requirement already satisfied: requests<3,>=2.21.0 in c:\\users\\win-10\\appdata\\roaming\\python\\python38\\site-packages (from tensorboard<3,>=2.3.0->tensorflow==2.3.1) (2.25.1)\n",
      "Requirement already satisfied: future in c:\\users\\win-10\\appdata\\roaming\\python\\python38\\site-packages (from pyglet<=1.5.0,>=1.4.0->gym) (0.18.2)\n",
      "Requirement already satisfied: cachetools<5.0,>=2.0.0 in c:\\users\\win-10\\appdata\\roaming\\python\\python38\\site-packages (from google-auth<2,>=1.6.3->tensorboard<3,>=2.3.0->tensorflow==2.3.1) (4.2.1)\n",
      "Requirement already satisfied: pyasn1-modules>=0.2.1 in c:\\users\\win-10\\appdata\\roaming\\python\\python38\\site-packages (from google-auth<2,>=1.6.3->tensorboard<3,>=2.3.0->tensorflow==2.3.1) (0.2.8)\n",
      "Requirement already satisfied: rsa<5,>=3.1.4; python_version >= \"3.6\" in c:\\users\\win-10\\appdata\\roaming\\python\\python38\\site-packages (from google-auth<2,>=1.6.3->tensorboard<3,>=2.3.0->tensorflow==2.3.1) (4.7.1)\n",
      "Requirement already satisfied: requests-oauthlib>=0.7.0 in c:\\users\\win-10\\appdata\\roaming\\python\\python38\\site-packages (from google-auth-oauthlib<0.5,>=0.4.1->tensorboard<3,>=2.3.0->tensorflow==2.3.1) (1.3.0)\n",
      "Requirement already satisfied: idna<3,>=2.5 in c:\\users\\win-10\\appdata\\roaming\\python\\python38\\site-packages (from requests<3,>=2.21.0->tensorboard<3,>=2.3.0->tensorflow==2.3.1) (2.10)\n",
      "Requirement already satisfied: chardet<5,>=3.0.2 in c:\\users\\win-10\\appdata\\roaming\\python\\python38\\site-packages (from requests<3,>=2.21.0->tensorboard<3,>=2.3.0->tensorflow==2.3.1) (4.0.0)\n",
      "Requirement already satisfied: urllib3<1.27,>=1.21.1 in c:\\users\\win-10\\appdata\\roaming\\python\\python38\\site-packages (from requests<3,>=2.21.0->tensorboard<3,>=2.3.0->tensorflow==2.3.1) (1.26.3)\n",
      "Requirement already satisfied: certifi>=2017.4.17 in c:\\users\\win-10\\appdata\\roaming\\python\\python38\\site-packages (from requests<3,>=2.21.0->tensorboard<3,>=2.3.0->tensorflow==2.3.1) (2020.12.5)\n",
      "Requirement already satisfied: pyasn1<0.5.0,>=0.4.6 in c:\\users\\win-10\\appdata\\roaming\\python\\python38\\site-packages (from pyasn1-modules>=0.2.1->google-auth<2,>=1.6.3->tensorboard<3,>=2.3.0->tensorflow==2.3.1) (0.4.8)\n",
      "Requirement already satisfied: oauthlib>=3.0.0 in c:\\users\\win-10\\appdata\\roaming\\python\\python38\\site-packages (from requests-oauthlib>=0.7.0->google-auth-oauthlib<0.5,>=0.4.1->tensorboard<3,>=2.3.0->tensorflow==2.3.1) (3.1.0)\n",
      "Installing collected packages: numpy\n",
      "  Attempting uninstall: numpy\n",
      "    Found existing installation: numpy 1.19.5\n",
      "    Uninstalling numpy-1.19.5:\n",
      "      Successfully uninstalled numpy-1.19.5\n",
      "  Rolling back uninstall of numpy\n",
      "  Moving to c:\\users\\win-10\\appdata\\roaming\\python\\python38\\scripts\\f2py.exe\n",
      "   from C:\\Users\\win-10\\AppData\\Local\\Temp\\pip-uninstall-l9o_82yo\\f2py.exe\n",
      "  Moving to c:\\users\\win-10\\appdata\\roaming\\python\\python38\\site-packages\\numpy-1.19.5.dist-info\\\n",
      "   from C:\\Users\\win-10\\AppData\\Roaming\\Python\\Python38\\site-packages\\~umpy-1.19.5.dist-info\n",
      "  Moving to c:\\users\\win-10\\appdata\\roaming\\python\\python38\\site-packages\\numpy\\\n",
      "   from C:\\Users\\win-10\\AppData\\Roaming\\Python\\Python38\\site-packages\\~~mpy\n"
     ]
    }
   ],
   "source": [
    "!pip install tensorflow==2.3.1 gym keras-rl2 gym[atari]"
   ]
  },
  {
   "cell_type": "markdown",
   "metadata": {
    "id": "BW-du9qufszA"
   },
   "source": [
    "# 2. Testing gym environment "
   ]
  },
  {
   "cell_type": "code",
   "execution_count": 1,
   "metadata": {
    "id": "GG-ajEN0fszB"
   },
   "outputs": [],
   "source": [
    "import gym \n",
    "import random"
   ]
  },
  {
   "cell_type": "code",
   "execution_count": null,
   "metadata": {},
   "outputs": [],
   "source": []
  },
  {
   "cell_type": "code",
   "execution_count": 2,
   "metadata": {},
   "outputs": [
    {
     "name": "stdout",
     "output_type": "stream",
     "text": [
      "Requirement already satisfied: atari-py in c:\\programdata\\anaconda3\\lib\\site-packages (0.2.6)\n",
      "Requirement already satisfied: numpy in c:\\users\\win-10\\appdata\\roaming\\python\\python38\\site-packages (from atari-py) (1.19.5)\n",
      "Requirement already satisfied: six in c:\\programdata\\anaconda3\\lib\\site-packages (from atari-py) (1.15.0)\n",
      "Note: you may need to restart the kernel to use updated packages.\n"
     ]
    },
    {
     "name": "stderr",
     "output_type": "stream",
     "text": [
      "WARNING: You are using pip version 21.0.1; however, version 21.1 is available.\n",
      "You should consider upgrading via the 'C:\\ProgramData\\Anaconda3\\python.exe -m pip install --upgrade pip' command.\n"
     ]
    }
   ],
   "source": [
    "pip install atari-py"
   ]
  },
  {
   "cell_type": "code",
   "execution_count": null,
   "metadata": {},
   "outputs": [],
   "source": []
  },
  {
   "cell_type": "code",
   "execution_count": null,
   "metadata": {},
   "outputs": [],
   "source": [
    "#1.run again from here if error occurs "
   ]
  },
  {
   "cell_type": "code",
   "execution_count": 16,
   "metadata": {
    "id": "XlUUMbvbfszC"
   },
   "outputs": [],
   "source": [
    "env = gym.make('Assault-v0')\n",
    "height, width, channels = env.observation_space.shape\n",
    "actions = env.action_space.n"
   ]
  },
  {
   "cell_type": "code",
   "execution_count": 17,
   "metadata": {
    "colab": {
     "base_uri": "https://localhost:8080/"
    },
    "id": "iS6f6Il7fszC",
    "outputId": "44adee5f-32d0-4d7e-b6eb-06b56bb6cb15"
   },
   "outputs": [
    {
     "data": {
      "text/plain": [
       "['NOOP', 'FIRE', 'UP', 'RIGHT', 'LEFT', 'RIGHTFIRE', 'LEFTFIRE']"
      ]
     },
     "execution_count": 17,
     "metadata": {},
     "output_type": "execute_result"
    }
   ],
   "source": [
    "env.unwrapped.get_action_meanings()"
   ]
  },
  {
   "cell_type": "code",
   "execution_count": 18,
   "metadata": {
    "scrolled": true
   },
   "outputs": [
    {
     "data": {
      "text/plain": [
       "3"
      ]
     },
     "execution_count": 18,
     "metadata": {},
     "output_type": "execute_result"
    }
   ],
   "source": [
    "channels"
   ]
  },
  {
   "cell_type": "code",
   "execution_count": 19,
   "metadata": {},
   "outputs": [],
   "source": [
    "#Random environment, DQN has not been applied so the AI plays randomly"
   ]
  },
  {
   "cell_type": "code",
   "execution_count": 20,
   "metadata": {
    "colab": {
     "base_uri": "https://localhost:8080/"
    },
    "id": "IYHY4S83fszD",
    "outputId": "1d288edf-6952-40b4-f7d8-152efc74ec0b"
   },
   "outputs": [
    {
     "name": "stdout",
     "output_type": "stream",
     "text": [
      "Episode:1 Score:63.0\n",
      "Episode:2 Score:21.0\n",
      "Episode:3 Score:21.0\n",
      "Episode:4 Score:21.0\n",
      "Episode:5 Score:21.0\n",
      "Episode:6 Score:21.0\n",
      "Episode:7 Score:42.0\n",
      "Episode:8 Score:21.0\n",
      "Episode:9 Score:63.0\n",
      "Episode:10 Score:21.0\n"
     ]
    }
   ],
   "source": [
    "episodes = 10\n",
    "for episode in range(1, episodes+1):\n",
    "    state = env.reset()\n",
    "    done = False\n",
    "    score = 0 \n",
    "    \n",
    "    for t in range(100):\n",
    "        env.render()\n",
    "        action = random.choice([0,1,2,3,4,5])\n",
    "        n_state, reward, done, info = env.step(action)\n",
    "        score+=reward\n",
    "    print('Episode:{} Score:{}'.format(episode, score))\n",
    "env.close()\n",
    "\n"
   ]
  },
  {
   "cell_type": "markdown",
   "metadata": {
    "id": "d2erjEXTfszD"
   },
   "source": [
    "# 3. Creating a Deep Learning Model"
   ]
  },
  {
   "cell_type": "code",
   "execution_count": 21,
   "metadata": {
    "id": "nA-HyMtufszD"
   },
   "outputs": [],
   "source": [
    "import numpy as np\n",
    "from tensorflow.keras.models import Sequential\n",
    "from tensorflow.keras.layers import Dense, Flatten, Convolution2D\n",
    "from tensorflow.keras.optimizers import Adam"
   ]
  },
  {
   "cell_type": "code",
   "execution_count": 22,
   "metadata": {
    "id": "e71hPnqqfszE"
   },
   "outputs": [],
   "source": [
    "def build_model(height, width, channels, actions):\n",
    "    model = Sequential()\n",
    "    model.add(Convolution2D(32, (8,8), strides=(4,4), activation='relu', input_shape=(3,height, width, channels)))\n",
    "    model.add(Convolution2D(64, (4,4), strides=(2,2), activation='relu'))\n",
    "    model.add(Convolution2D(64, (3,3), activation='relu'))\n",
    "    model.add(Flatten())\n",
    "    model.add(Dense(512, activation='relu'))\n",
    "    model.add(Dense(256, activation='relu'))\n",
    "    model.add(Dense(actions, activation='linear'))\n",
    "    return model"
   ]
  },
  {
   "cell_type": "code",
   "execution_count": null,
   "metadata": {
    "id": "hYxafBy-fszF"
   },
   "outputs": [],
   "source": []
  },
  {
   "cell_type": "code",
   "execution_count": 23,
   "metadata": {
    "id": "X49SJctOfszF"
   },
   "outputs": [],
   "source": [
    "model = build_model(height, width, channels, actions)"
   ]
  },
  {
   "cell_type": "code",
   "execution_count": 24,
   "metadata": {
    "colab": {
     "base_uri": "https://localhost:8080/"
    },
    "id": "b2uV7MD1fszF",
    "outputId": "28f5a8f7-2d1c-4761-c82c-b27f66b4d1d5"
   },
   "outputs": [
    {
     "name": "stdout",
     "output_type": "stream",
     "text": [
      "Model: \"sequential_1\"\n",
      "_________________________________________________________________\n",
      "Layer (type)                 Output Shape              Param #   \n",
      "=================================================================\n",
      "conv2d_3 (Conv2D)            (None, 3, 61, 39, 32)     6176      \n",
      "_________________________________________________________________\n",
      "conv2d_4 (Conv2D)            (None, 3, 29, 18, 64)     32832     \n",
      "_________________________________________________________________\n",
      "conv2d_5 (Conv2D)            (None, 3, 27, 16, 64)     36928     \n",
      "_________________________________________________________________\n",
      "flatten_1 (Flatten)          (None, 82944)             0         \n",
      "_________________________________________________________________\n",
      "dense_4 (Dense)              (None, 512)               42467840  \n",
      "_________________________________________________________________\n",
      "dense_5 (Dense)              (None, 256)               131328    \n",
      "_________________________________________________________________\n",
      "dense_6 (Dense)              (None, 7)                 1799      \n",
      "=================================================================\n",
      "Total params: 42,676,903\n",
      "Trainable params: 42,676,903\n",
      "Non-trainable params: 0\n",
      "_________________________________________________________________\n"
     ]
    }
   ],
   "source": [
    "model.summary()"
   ]
  },
  {
   "cell_type": "code",
   "execution_count": null,
   "metadata": {
    "scrolled": true
   },
   "outputs": [],
   "source": []
  },
  {
   "cell_type": "markdown",
   "metadata": {
    "id": "xoE3_zB_fszG"
   },
   "source": [
    "# 4. Building a DQN Agent with Keras"
   ]
  },
  {
   "cell_type": "code",
   "execution_count": 25,
   "metadata": {},
   "outputs": [],
   "source": [
    "# if error occurs then run the code from beginning again from top"
   ]
  },
  {
   "cell_type": "code",
   "execution_count": 26,
   "metadata": {
    "id": "PkfJS9qDfszG"
   },
   "outputs": [],
   "source": [
    "from rl.agents import DQNAgent\n",
    "from rl.memory import SequentialMemory\n",
    "from rl.policy import LinearAnnealedPolicy, EpsGreedyQPolicy"
   ]
  },
  {
   "cell_type": "code",
   "execution_count": 27,
   "metadata": {
    "id": "TlyfPb--fszG"
   },
   "outputs": [],
   "source": [
    "def build_agent(model, actions):\n",
    "    policy = LinearAnnealedPolicy(EpsGreedyQPolicy(), attr='eps', value_max=1., value_min=.1, value_test=.2, nb_steps=10000)\n",
    "    memory = SequentialMemory(limit=1000, window_length=3)\n",
    "    dqn = DQNAgent(model=model, memory=memory, policy=policy,\n",
    "                  enable_dueling_network=True, dueling_type='avg', \n",
    "                   nb_actions=actions, nb_steps_warmup=1000\n",
    "                  )\n",
    "    return dqn"
   ]
  },
  {
   "cell_type": "code",
   "execution_count": 28,
   "metadata": {
    "id": "jZ4MMRyofszH"
   },
   "outputs": [],
   "source": [
    "dqn = build_agent(model, actions)\n",
    "dqn.compile(Adam(lr=1e-4))"
   ]
  },
  {
   "cell_type": "code",
   "execution_count": 19,
   "metadata": {},
   "outputs": [],
   "source": [
    "#2. if error occurs go to 1. and run each cell once again\n",
    "#3. after executing the above code dqn.compile(). Then Run the line 4."
   ]
  },
  {
   "cell_type": "code",
   "execution_count": 31,
   "metadata": {},
   "outputs": [],
   "source": [
    "#testing for 10000 steps for ten-thousand steps, PS- this will take a while"
   ]
  },
  {
   "cell_type": "code",
   "execution_count": 32,
   "metadata": {
    "colab": {
     "base_uri": "https://localhost:8080/"
    },
    "id": "6FVN5E2cfszH",
    "outputId": "a7f8a389-f23b-45df-ec61-cbf1ceaef9d3"
   },
   "outputs": [
    {
     "name": "stdout",
     "output_type": "stream",
     "text": [
      "Training for 10000 steps ...\n",
      "WARNING:tensorflow:From C:\\ProgramData\\Anaconda3\\lib\\site-packages\\tensorflow\\python\\keras\\engine\\training_v1.py:2070: Model.state_updates (from tensorflow.python.keras.engine.training) is deprecated and will be removed in a future version.\n",
      "Instructions for updating:\n",
      "This property should not be used in TensorFlow 2.0, as updates are applied automatically.\n",
      "  398/10000: episode: 1, duration: 15.690s, episode steps: 398, steps per second:  25, episode reward: 168.000, mean reward:  0.422 [ 0.000, 21.000], mean action: 2.794 [0.000, 6.000],  loss: --, mean_q: --, mean_eps: --\n",
      " 1002/10000: episode: 2, duration: 42.629s, episode steps: 604, steps per second:  14, episode reward: 189.000, mean reward:  0.313 [ 0.000, 21.000], mean action: 2.808 [0.000, 6.000],  loss: 97.381104, mean_q: 11.451048, mean_eps: 0.909910\n",
      " 1693/10000: episode: 3, duration: 663.334s, episode steps: 691, steps per second:   1, episode reward: 189.000, mean reward:  0.274 [ 0.000, 21.000], mean action: 3.048 [0.000, 6.000],  loss: 5.184674, mean_q: 12.687715, mean_eps: 0.878770\n",
      " 2291/10000: episode: 4, duration: 569.832s, episode steps: 598, steps per second:   1, episode reward: 189.000, mean reward:  0.316 [ 0.000, 21.000], mean action: 2.901 [0.000, 6.000],  loss: 1.107963, mean_q: 12.445792, mean_eps: 0.820765\n",
      " 3024/10000: episode: 5, duration: 711.806s, episode steps: 733, steps per second:   1, episode reward: 189.000, mean reward:  0.258 [ 0.000, 21.000], mean action: 2.936 [0.000, 6.000],  loss: 0.984568, mean_q: 12.672252, mean_eps: 0.760870\n",
      " 3666/10000: episode: 6, duration: 654.288s, episode steps: 642, steps per second:   1, episode reward: 252.000, mean reward:  0.393 [ 0.000, 21.000], mean action: 2.812 [0.000, 6.000],  loss: 0.694633, mean_q: 11.687117, mean_eps: 0.698995\n",
      " 4414/10000: episode: 7, duration: 772.900s, episode steps: 748, steps per second:   1, episode reward: 315.000, mean reward:  0.421 [ 0.000, 21.000], mean action: 2.945 [0.000, 6.000],  loss: 1.314928, mean_q: 11.851820, mean_eps: 0.636445\n",
      " 5309/10000: episode: 8, duration: 875.495s, episode steps: 895, steps per second:   1, episode reward: 315.000, mean reward:  0.352 [ 0.000, 21.000], mean action: 3.003 [0.000, 6.000],  loss: 1.168830, mean_q: 12.572697, mean_eps: 0.562510\n",
      " 6013/10000: episode: 9, duration: 690.421s, episode steps: 704, steps per second:   1, episode reward: 273.000, mean reward:  0.388 [ 0.000, 21.000], mean action: 3.209 [0.000, 6.000],  loss: 1.032489, mean_q: 12.698613, mean_eps: 0.490555\n",
      " 6937/10000: episode: 10, duration: 914.560s, episode steps: 924, steps per second:   1, episode reward: 399.000, mean reward:  0.432 [ 0.000, 21.000], mean action: 3.082 [0.000, 6.000],  loss: 0.626613, mean_q: 12.298869, mean_eps: 0.417295\n",
      " 7728/10000: episode: 11, duration: 789.368s, episode steps: 791, steps per second:   1, episode reward: 210.000, mean reward:  0.265 [ 0.000, 21.000], mean action: 3.009 [0.000, 6.000],  loss: 1.619605, mean_q: 11.958231, mean_eps: 0.340120\n",
      " 8417/10000: episode: 12, duration: 634.289s, episode steps: 689, steps per second:   1, episode reward: 189.000, mean reward:  0.274 [ 0.000, 21.000], mean action: 2.795 [0.000, 6.000],  loss: 0.927515, mean_q: 11.930170, mean_eps: 0.273520\n",
      " 9330/10000: episode: 13, duration: 873.639s, episode steps: 913, steps per second:   1, episode reward: 189.000, mean reward:  0.207 [ 0.000, 21.000], mean action: 2.829 [0.000, 6.000],  loss: 0.512184, mean_q: 11.119732, mean_eps: 0.201430\n",
      "done, took 8907.132 seconds\n"
     ]
    },
    {
     "data": {
      "text/plain": [
       "<tensorflow.python.keras.callbacks.History at 0x16a3b9d47c0>"
      ]
     },
     "execution_count": 32,
     "metadata": {},
     "output_type": "execute_result"
    }
   ],
   "source": [
    "dqn.fit(env, nb_steps=10000, visualize=False, verbose=2)"
   ]
  },
  {
   "cell_type": "code",
   "execution_count": 30,
   "metadata": {
    "colab": {
     "base_uri": "https://localhost:8080/",
     "height": 320
    },
    "id": "bSdaNdtIfszH",
    "outputId": "7634bcd9-47c8-46ef-fbd4-120d36b548a8"
   },
   "outputs": [
    {
     "name": "stdout",
     "output_type": "stream",
     "text": [
      "Testing for 13 episodes ...\n",
      "WARNING:tensorflow:From C:\\ProgramData\\Anaconda3\\lib\\site-packages\\tensorflow\\python\\keras\\engine\\training_v1.py:2070: Model.state_updates (from tensorflow.python.keras.engine.training) is deprecated and will be removed in a future version.\n",
      "Instructions for updating:\n",
      "This property should not be used in TensorFlow 2.0, as updates are applied automatically.\n",
      "Episode 1: reward: 126.000, steps: 784\n",
      "Episode 2: reward: 147.000, steps: 832\n",
      "Episode 3: reward: 168.000, steps: 802\n",
      "Episode 4: reward: 189.000, steps: 944\n",
      "Episode 5: reward: 189.000, steps: 1046\n",
      "Episode 6: reward: 147.000, steps: 821\n",
      "Episode 7: reward: 105.000, steps: 708\n",
      "Episode 8: reward: 252.000, steps: 915\n",
      "Episode 9: reward: 273.000, steps: 891\n",
      "Episode 10: reward: 273.000, steps: 1148\n",
      "Episode 11: reward: 84.000, steps: 1048\n",
      "Episode 12: reward: 189.000, steps: 856\n",
      "Episode 13: reward: 147.000, steps: 927\n",
      "176.07692307692307\n"
     ]
    }
   ],
   "source": [
    "scores = dqn.test(env, nb_episodes=13, visualize=True)\n",
    "print(np.mean(scores.history['episode_reward']))"
   ]
  },
  {
   "cell_type": "code",
   "execution_count": null,
   "metadata": {},
   "outputs": [],
   "source": []
  },
  {
   "cell_type": "code",
   "execution_count": null,
   "metadata": {
    "id": "CZFccP61kHOw"
   },
   "outputs": [],
   "source": [
    "#5. run above line to play after loading the weights 'dqn.test()'"
   ]
  },
  {
   "cell_type": "code",
   "execution_count": null,
   "metadata": {
    "colab": {
     "base_uri": "https://localhost:8080/",
     "height": 438
    },
    "id": "gyhDutP6cm1n",
    "outputId": "086c90ca-e8ac-4dfd-d598-dee6706c3d1d"
   },
   "outputs": [],
   "source": []
  },
  {
   "cell_type": "code",
   "execution_count": null,
   "metadata": {
    "colab": {
     "base_uri": "https://localhost:8080/"
    },
    "id": "WuG_3KIIkH31",
    "outputId": "36f46ac4-7b80-45d1-f2c7-c239d7e2e7f0"
   },
   "outputs": [],
   "source": []
  },
  {
   "cell_type": "markdown",
   "metadata": {
    "id": "fxshGuUNfszI"
   },
   "source": [
    "# 5. Reload the weights to play the last game"
   ]
  },
  {
   "cell_type": "code",
   "execution_count": null,
   "metadata": {},
   "outputs": [],
   "source": [
    "#run this for saving (already saved)"
   ]
  },
  {
   "cell_type": "code",
   "execution_count": 37,
   "metadata": {
    "id": "we18kovMfszI"
   },
   "outputs": [
    {
     "name": "stdout",
     "output_type": "stream",
     "text": [
      "[WARNING] dqn_weights.h5f.index already exists - overwrite? [y/n]y\n",
      "[TIP] Next time specify overwrite=True!\n"
     ]
    }
   ],
   "source": [
    "dqn.save_weights('dqn_weights.h5f')"
   ]
  },
  {
   "cell_type": "code",
   "execution_count": null,
   "metadata": {
    "id": "mokqFArbfszI"
   },
   "outputs": [],
   "source": [
    "#4. run the below cell for loading already trained data then go to dqn.test cell to test it. and go to line 5 to test it"
   ]
  },
  {
   "cell_type": "code",
   "execution_count": 29,
   "metadata": {
    "id": "xqme3g-JfszJ"
   },
   "outputs": [],
   "source": [
    "dqn.load_weights('dqn_weights.h5f')"
   ]
  },
  {
   "cell_type": "code",
   "execution_count": null,
   "metadata": {
    "id": "NbS91pazfszJ"
   },
   "outputs": [],
   "source": []
  }
 ],
 "metadata": {
  "colab": {
   "name": "Copy of Space Invaders Walkthrough.ipynb",
   "provenance": []
  },
  "kernelspec": {
   "display_name": "Python 3",
   "language": "python",
   "name": "python3"
  },
  "language_info": {
   "codemirror_mode": {
    "name": "ipython",
    "version": 3
   },
   "file_extension": ".py",
   "mimetype": "text/x-python",
   "name": "python",
   "nbconvert_exporter": "python",
   "pygments_lexer": "ipython3",
   "version": "3.8.5"
  }
 },
 "nbformat": 4,
 "nbformat_minor": 1
}
